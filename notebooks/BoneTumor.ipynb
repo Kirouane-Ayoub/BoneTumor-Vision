{
  "nbformat": 4,
  "nbformat_minor": 0,
  "metadata": {
    "colab": {
      "provenance": []
    },
    "kernelspec": {
      "name": "python3",
      "display_name": "Python 3"
    },
    "language_info": {
      "name": "python"
    }
  },
  "cells": [
    {
      "cell_type": "code",
      "source": [
        "! pip -q install gdown"
      ],
      "metadata": {
        "id": "kry6pO2vIQ5m"
      },
      "execution_count": null,
      "outputs": []
    },
    {
      "cell_type": "code",
      "source": [
        "%cd /content"
      ],
      "metadata": {
        "id": "Kd5KA2ixKGqu"
      },
      "execution_count": null,
      "outputs": []
    },
    {
      "cell_type": "code",
      "source": [
        "import gdown\n",
        "import zipfile\n",
        "\n",
        "def download_file_from_google_drive(file_id, output_file):\n",
        "    \"\"\"\n",
        "    Download a file from Google Drive.\n",
        "\n",
        "    :param file_id: The Google Drive file ID.\n",
        "    :param output_file: The name of the file to save.\n",
        "    \"\"\"\n",
        "    url = f\"https://drive.google.com/uc?id={file_id}\"\n",
        "    gdown.download(url, output_file, quiet=False)\n",
        "\n",
        "# Example usage:\n",
        "bone_fracture_detection_file_id = \"1--fAnsBtykHxIvq6oqxDAaOJpaWZ5LbP\"\n",
        "bone_out = \"bone_fracture_detection.zip\"\n",
        "download_file_from_google_drive(bone_fracture_detection_file_id, bone_out)\n",
        "\n",
        "# Open the ZIP file for reading\n",
        "with zipfile.ZipFile(bone_out, 'r') as zip_ref:\n",
        "    # Extract all the contents to the specified directory\n",
        "    zip_ref.extractall()\n",
        "\n",
        "tumor_detection_file_id = \"1-2_xDKaO3K1LUtEL-AdGZzZiQP9ulzdM\"\n",
        "tumor_out = \"tumor_detection.zip\"\n",
        "download_file_from_google_drive(tumor_detection_file_id, tumor_out)\n",
        "\n",
        "\n",
        "with zipfile.ZipFile(tumor_out, 'r') as zip_ref:\n",
        "    # Extract all the contents to the specified directory\n",
        "    zip_ref.extractall()"
      ],
      "metadata": {
        "id": "s7pkpppTIKtD"
      },
      "execution_count": null,
      "outputs": []
    },
    {
      "cell_type": "code",
      "source": [
        "import os\n",
        "import pathlib\n",
        "\n",
        "# Clone the tensorflow models repository if it doesn't already exist\n",
        "if \"models\" in pathlib.Path.cwd().parts:\n",
        "  while \"models\" in pathlib.Path.cwd().parts:\n",
        "    os.chdir('..')\n",
        "elif not pathlib.Path('models').exists():\n",
        "  !git clone --depth 1 https://github.com/tensorflow/models\n",
        "!pip install numpy --upgrade\n",
        "# Install the Object Detection API"
      ],
      "metadata": {
        "id": "aYBZCr42IKpp"
      },
      "execution_count": null,
      "outputs": []
    },
    {
      "cell_type": "code",
      "source": [
        "%cd /content"
      ],
      "metadata": {
        "id": "EhvmmoX6KIdP"
      },
      "execution_count": null,
      "outputs": []
    },
    {
      "cell_type": "code",
      "source": [
        "%%bash\n",
        "cd models/research/\n",
        "protoc object_detection/protos/*.proto --python_out=.\n",
        "cp object_detection/packages/tf2/setup.py .\n",
        "python -m pip install ."
      ],
      "metadata": {
        "id": "KGEtc_zSIKl6"
      },
      "execution_count": null,
      "outputs": []
    },
    {
      "cell_type": "code",
      "source": [
        "import tensorflow as tf\n",
        "from object_detection.utils import label_map_util\n",
        "from object_detection.utils import visualization_utils as viz_utils\n",
        "from PIL import Image\n",
        "import numpy as np"
      ],
      "metadata": {
        "id": "CR_b_pIyIg6r"
      },
      "execution_count": null,
      "outputs": []
    },
    {
      "cell_type": "code",
      "source": [
        "def usemodel(model_path):\n",
        "  model = tf.saved_model.load(f\"{model_path}/saved_model\")\n",
        "  label_map_path = f\"{model_path}/labels.pbtxt\"\n",
        "  label_map = label_map_util.load_labelmap(label_map_path)\n",
        "  categories = label_map_util.convert_label_map_to_categories(label_map,\n",
        "                                                               max_num_classes=13,\n",
        "                                                               use_display_name=True)\n",
        "  return model , categories\n",
        "\n",
        "def run (model ,categories, image_path , save_name , min_score_thresh=.2 ) :\n",
        "  category_index = label_map_util.create_category_index(categories)\n",
        "  image = Image.open(image_path).convert(\"RGB\")\n",
        "  image_np = np.array(image)\n",
        "  input_tensor = tf.convert_to_tensor(image_np)\n",
        "  input_tensor = input_tensor[tf.newaxis, ...]\n",
        "  output_dict = model(input_tensor)\n",
        "  num_detections = int(output_dict.pop('num_detections'))\n",
        "  output_dict = {key: value[0, :num_detections].numpy() for key, value in output_dict.items()}\n",
        "  output_dict['detection_classes'] = output_dict['detection_classes'].astype(np.int64)\n",
        "  viz_utils.visualize_boxes_and_labels_on_image_array(\n",
        "                                                        image_np,\n",
        "                                                        output_dict['detection_boxes'],\n",
        "                                                        output_dict['detection_classes'],\n",
        "                                                        output_dict['detection_scores'],\n",
        "                                                        category_index,\n",
        "                                                        use_normalized_coordinates=True,\n",
        "                                                        max_boxes_to_draw=200,\n",
        "                                                        min_score_thresh=min_score_thresh,\n",
        "                                                        agnostic_mode=False)\n",
        "  Imageresult = Image.fromarray(image_np)\n",
        "  Imageresult.save(f\"{save_name}.png\")\n",
        "  return Imageresult"
      ],
      "metadata": {
        "id": "bH5BnTAjIkBh"
      },
      "execution_count": null,
      "outputs": []
    },
    {
      "cell_type": "code",
      "source": [
        "%cd /content"
      ],
      "metadata": {
        "id": "FAMbLFYFKNf1"
      },
      "execution_count": null,
      "outputs": []
    },
    {
      "cell_type": "code",
      "source": [
        "model_path = \"tumor_detection/\" # or you can use bone_fracture_detection model"
      ],
      "metadata": {
        "id": "2iSlQ-l9JW-D"
      },
      "execution_count": null,
      "outputs": []
    },
    {
      "cell_type": "code",
      "source": [
        "model , categories = usemodel(model_path)"
      ],
      "metadata": {
        "id": "irgNcxSIItXo"
      },
      "execution_count": null,
      "outputs": []
    },
    {
      "cell_type": "code",
      "source": [
        "run(model ,categories, image_path=\"Put your Image Path Here\" , save_name=\"result_0\" , min_score_thresh=0.3)\n",
        "# you can change save_name to any name you want , also you can  specify your min_score_thresh (0.1 to 1)"
      ],
      "metadata": {
        "id": "NyV32yGlIv86"
      },
      "execution_count": null,
      "outputs": []
    }
  ]
}